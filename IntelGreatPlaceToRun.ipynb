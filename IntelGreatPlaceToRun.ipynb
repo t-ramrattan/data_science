{
 "cells": [
  {
   "cell_type": "code",
   "execution_count": null,
   "metadata": {},
   "outputs": [],
   "source": [
    "import pandas as pd\n",
    "import numpy as np\n",
    "import matplotlib.pyplot as plt\n",
    "import seaborn as sns\n",
    "import datetime\n",
    "\n",
    "from urllib.request import urlopen\n",
    "from bs4 import BeautifulSoup\n",
    "from pylab import rcParams"
   ]
  },
  {
   "cell_type": "code",
   "execution_count": null,
   "metadata": {},
   "outputs": [],
   "source": [
    "# website url: http://www.hubertiming.com/results/2017GPTR10K\n",
    "# download html\n",
    "url = 'https://www.hubertiming.com/results/2017GPTR10K'\n",
    "html = urlopen(url)"
   ]
  },
  {
   "cell_type": "code",
   "execution_count": null,
   "metadata": {},
   "outputs": [],
   "source": [
    "soup = BeautifulSoup(html, 'html.parser')"
   ]
  },
  {
   "cell_type": "code",
   "execution_count": null,
   "metadata": {},
   "outputs": [],
   "source": [
    "# get the individual resutls table\n",
    "individual_result = soup.find(id='individualResults')\n",
    "type(individual_result)\n",
    "print(individual_result)"
   ]
  },
  {
   "cell_type": "code",
   "execution_count": null,
   "metadata": {
    "scrolled": true
   },
   "outputs": [],
   "source": [
    "# get the headers\n",
    "headers = individual_result.thead\n",
    "print(headers)"
   ]
  },
  {
   "cell_type": "code",
   "execution_count": null,
   "metadata": {},
   "outputs": [],
   "source": [
    "# extract text from headers \n",
    "headers = headers.find_all('th')\n",
    "headers = list(map(lambda h: h.text, headers))\n",
    "print('headers', headers)"
   ]
  },
  {
   "cell_type": "code",
   "execution_count": null,
   "metadata": {},
   "outputs": [],
   "source": [
    "# get each row of the table\n",
    "rows = individual_result.find_all('tr')\n",
    "print('There are a total of {} rows in the table'.format(len(rows)))"
   ]
  },
  {
   "cell_type": "code",
   "execution_count": null,
   "metadata": {},
   "outputs": [],
   "source": [
    "# for each row get the values of the td\n",
    "table_data = []\n",
    "for row in rows:\n",
    "    row_data = []\n",
    "    for td in row.find_all('td'):\n",
    "        row_data.append(td.text)\n",
    "    table_data.append(row_data)\n",
    "    \n",
    "# create DataFrame\n",
    "table_df = pd.DataFrame(table_data)\n",
    "table_df.head(10)"
   ]
  },
  {
   "cell_type": "code",
   "execution_count": null,
   "metadata": {
    "scrolled": true
   },
   "outputs": [],
   "source": [
    "# remove first row \n",
    "table_data = table_data[1:]\n",
    "\n",
    "# map Place and Bib from str to number\n",
    "for row in table_data:\n",
    "    row[0] = int(row[0])\n",
    "    row[1] = int(row[1])"
   ]
  },
  {
   "cell_type": "code",
   "execution_count": null,
   "metadata": {},
   "outputs": [],
   "source": [
    "# map all time values to ints\n",
    "# \n",
    "def datetimeToMinutes(date_time):\n",
    "    hour = date_time.hour\n",
    "    minute = date_time.minute\n",
    "    second = date_time.second\n",
    "    return hour * 60 + minute + (second / 60)\n",
    "\n",
    "for row in table_data:\n",
    "    row[6] = datetimeToMinutes(datetime.datetime.strptime(row[6], '%H:%M:%S'))\n",
    "    row[7] = datetimeToMinutes(datetime.datetime.strptime(row[7], '%M:%S'))\n",
    "    row[11] = datetimeToMinutes(datetime.datetime.strptime(row[11], '%H:%M:%S'))\n",
    "    row[12] = datetimeToMinutes(datetime.datetime.strptime(row[12], '%H:%M:%S'))"
   ]
  },
  {
   "cell_type": "code",
   "execution_count": null,
   "metadata": {},
   "outputs": [],
   "source": [
    "# create DataFrame\n",
    "table_df = pd.DataFrame(table_data)\n",
    "table_df.head(10)"
   ]
  },
  {
   "cell_type": "code",
   "execution_count": null,
   "metadata": {
    "scrolled": true
   },
   "outputs": [],
   "source": [
    "# set column names for table\n",
    "table_df.columns = headers\n",
    "table_df.head(10)"
   ]
  },
  {
   "cell_type": "code",
   "execution_count": null,
   "metadata": {},
   "outputs": [],
   "source": [
    "table_df.describe(include=[np.number])"
   ]
  },
  {
   "cell_type": "code",
   "execution_count": null,
   "metadata": {},
   "outputs": [],
   "source": [
    "rcParams['figure.figsize'] = 15, 5\n",
    "\n",
    "table_df.boxplot(column='Chip Time')\n",
    "plt.grid(True, axis='y')\n",
    "plt.ylabel('Chip Time')\n",
    "plt.xticks([1], ['Runners'])"
   ]
  },
  {
   "cell_type": "code",
   "execution_count": null,
   "metadata": {},
   "outputs": [],
   "source": [
    "table_df.boxplot(column='Chip Pace')\n",
    "plt.grid(True, axis='y')\n",
    "plt.ylabel('Chip Pace')\n",
    "plt.xticks([1], ['Runners'])"
   ]
  },
  {
   "cell_type": "code",
   "execution_count": null,
   "metadata": {},
   "outputs": [],
   "source": [
    "x = table_df['Chip Time']\n",
    "ax = sns.distplot(x, hist=True, kde=True, rug=False, color='b', bins=25, hist_kws={'edgecolor':'black'})\n",
    "plt.show()"
   ]
  },
  {
   "cell_type": "code",
   "execution_count": null,
   "metadata": {},
   "outputs": [],
   "source": [
    "f_fuko = table_df.loc[table_df['Gender']=='F']['Chip Time']\n",
    "m_fuko = table_df.loc[table_df['Gender']=='M']['Chip Time']\n",
    "sns.distplot(f_fuko, hist=True, kde=True, rug=False, hist_kws={'edgecolor':'black'}, label='Female')\n",
    "sns.distplot(m_fuko, hist=False, kde=True, rug=False, hist_kws={'edgecolor':'black'}, label='Male')\n",
    "plt.legend()"
   ]
  },
  {
   "cell_type": "code",
   "execution_count": null,
   "metadata": {},
   "outputs": [],
   "source": [
    "g_stats = table_df.groupby('Gender', as_index = True).describe()\n",
    "print(g_stats)"
   ]
  }
 ],
 "metadata": {
  "kernelspec": {
   "display_name": "Python 3",
   "language": "python",
   "name": "python3"
  },
  "language_info": {
   "codemirror_mode": {
    "name": "ipython",
    "version": 3
   },
   "file_extension": ".py",
   "mimetype": "text/x-python",
   "name": "python",
   "nbconvert_exporter": "python",
   "pygments_lexer": "ipython3",
   "version": "3.7.3"
  }
 },
 "nbformat": 4,
 "nbformat_minor": 2
}
